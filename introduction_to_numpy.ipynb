{
 "cells": [
  {
   "cell_type": "markdown",
   "id": "3c05df60-47cd-4905-b330-061ffd72a8c3",
   "metadata": {},
   "source": [
    "<h3>Numpy</h3>"
   ]
  },
  {
   "cell_type": "markdown",
   "id": "ccf41805-d4f4-40c6-bc18-45496bca8789",
   "metadata": {},
   "source": [
    "TODO: Small numpy intro\n",
    "Numpy is the standard language for  in python. \n",
    "Most of python's libraries for data science are built on top of numpy"
   ]
  },
  {
   "cell_type": "code",
   "execution_count": 89,
   "id": "fc73b21b-ff25-4f16-b41b-922bb502d44c",
   "metadata": {},
   "outputs": [],
   "source": [
    "import numpy as np"
   ]
  },
  {
   "cell_type": "markdown",
   "id": "6dea4175-c07f-41ab-bba0-9ed2c0a5671e",
   "metadata": {},
   "source": [
    "<h4> Data types </h4>"
   ]
  },
  {
   "cell_type": "markdown",
   "id": "e81816f6-ccd4-4f6a-8501-cd6cbfa2a6ce",
   "metadata": {},
   "source": [
    "TODO: a small intro on data types"
   ]
  },
  {
   "cell_type": "markdown",
   "id": "30f0e384-8ccc-49b0-b38e-084d4258fd30",
   "metadata": {},
   "source": [
    "Similarly to a list, an array is a sequence of elements. All elements in a numpy array are of the same data type. We can define the precision in bytes of a the elements "
   ]
  },
  {
   "cell_type": "code",
   "execution_count": 102,
   "id": "db92f363-7faa-4685-8585-f5b80c2c9f5b",
   "metadata": {},
   "outputs": [],
   "source": [
    "int_array_1 = np.array([3,4,5,6,7], np.int16)\n",
    "print(int_array_1.dtype)"
   ]
  },
  {
   "cell_type": "code",
   "execution_count": null,
   "id": "833c364a-1ff2-4d12-b980-d34cfce69774",
   "metadata": {},
   "outputs": [],
   "source": [
    "int_array_3 = np.array([11,13,2,1], np.int16)\n",
    "print(int_array_3.dtype)"
   ]
  },
  {
   "cell_type": "code",
   "execution_count": null,
   "id": "cf75a0b7-6abc-4507-b9bd-cc64132e3631",
   "metadata": {},
   "outputs": [],
   "source": [
    "int_array_4 = np.array([11,13,2,1], np.int16)\n",
    "print(int_array_4.dtype)"
   ]
  },
  {
   "cell_type": "code",
   "execution_count": 40,
   "id": "8b655221-9422-49ca-b7eb-8ad477764aaf",
   "metadata": {},
   "outputs": [
    {
     "name": "stdout",
     "output_type": "stream",
     "text": [
      "int64\n"
     ]
    }
   ],
   "source": [
    "my_int_array = np.array([3,4,5,6,7,8,9])\n",
    "print(my_int_array.dtype)"
   ]
  },
  {
   "cell_type": "code",
   "execution_count": 41,
   "id": "b1d877ea-08b7-4f0b-af33-49db642634da",
   "metadata": {},
   "outputs": [
    {
     "name": "stdout",
     "output_type": "stream",
     "text": [
      "float16\n"
     ]
    }
   ],
   "source": [
    "float_array_1 = np.array([2.3, 4.3, 1.3], dtype=np.float16)\n",
    "print(float_array_1.dtype)"
   ]
  },
  {
   "cell_type": "code",
   "execution_count": 42,
   "id": "e193f014-bc40-4954-9769-2f20ba2ce98c",
   "metadata": {},
   "outputs": [
    {
     "name": "stdout",
     "output_type": "stream",
     "text": [
      "float32\n"
     ]
    }
   ],
   "source": [
    "float_array_2 = np.array([2.3, 4.3, 1.3], dtype=np.float32)\n",
    "print(float_array_2.dtype)"
   ]
  },
  {
   "cell_type": "code",
   "execution_count": 43,
   "id": "de2ceb21-a36d-451d-ba43-b1c9a0c57553",
   "metadata": {},
   "outputs": [
    {
     "name": "stdout",
     "output_type": "stream",
     "text": [
      "float64\n"
     ]
    }
   ],
   "source": [
    "my_float_array = np.array([32.3,43.1,9])\n",
    "print(my_float_array.dtype)"
   ]
  },
  {
   "cell_type": "markdown",
   "id": "b6b25850-dd6c-4205-a1a8-beddbcf04a3e",
   "metadata": {},
   "source": [
    "<h4> Indexing and slicing </h4>\n",
    "To access elements inside a numpy array we use indexing:"
   ]
  },
  {
   "cell_type": "code",
   "execution_count": 44,
   "id": "d46b0e58-f285-4008-97bd-d15b25acedac",
   "metadata": {},
   "outputs": [
    {
     "name": "stdout",
     "output_type": "stream",
     "text": [
      "[3 4 5 6 7 8 9]\n",
      "3\n",
      "5\n",
      "9\n",
      "7\n"
     ]
    }
   ],
   "source": [
    "print(my_int_array)\n",
    "print(my_int_array[0])\n",
    "print(my_int_array[2])\n",
    "print(my_int_array[-1])\n",
    "print(my_int_array[-3])"
   ]
  },
  {
   "cell_type": "markdown",
   "id": "ad86adaf-4b8a-499d-bcea-a8e8ebeaac65",
   "metadata": {},
   "source": [
    "We can redefine an element in an array by selecting its index and assigning it to a new value:"
   ]
  },
  {
   "cell_type": "code",
   "execution_count": 46,
   "id": "1344afcb-57de-4bd4-b2ae-58673ed51d3d",
   "metadata": {},
   "outputs": [
    {
     "name": "stdout",
     "output_type": "stream",
     "text": [
      "[3 4 5 6 7 8 9]\n"
     ]
    }
   ],
   "source": [
    "print(my_int_array)\n"
   ]
  },
  {
   "cell_type": "markdown",
   "id": "c36ae202-7e4b-4e03-a3a4-7624f108ba0f",
   "metadata": {},
   "source": [
    "To access multiple elements at a time we use slicing:"
   ]
  },
  {
   "cell_type": "code",
   "execution_count": 118,
   "id": "fa4327d1-a410-4c8b-abef-8ec49c2076c3",
   "metadata": {},
   "outputs": [
    {
     "name": "stdout",
     "output_type": "stream",
     "text": [
      "[3 4 5 6 7 8 9]\n",
      "[5 6]\n",
      "[4 5 6 7]\n",
      "[3 4 5 6]\n",
      "[5 6 7 8 9]\n",
      "[7 8 9]\n"
     ]
    }
   ],
   "source": [
    "print(my_int_array)\n",
    "print(my_int_array[2:4])\n",
    "print(my_int_array[1:5])\n",
    "print(my_int_array[:4])\n",
    "print(my_int_array[2:])\n",
    "print(my_int_array[-3:])"
   ]
  },
  {
   "cell_type": "markdown",
   "id": "2d94f59f-cde7-4908-8153-f17ea6e15085",
   "metadata": {
    "tags": []
   },
   "source": [
    "Similarly, "
   ]
  },
  {
   "cell_type": "markdown",
   "id": "e492870a-eda2-4b73-9bdc-3c01e75a27ca",
   "metadata": {},
   "source": [
    "<h4>Multi-dimensional arrays</h4>"
   ]
  },
  {
   "cell_type": "code",
   "execution_count": 26,
   "id": "6c2cde37-5205-4f72-ab37-aa82c84323ff",
   "metadata": {},
   "outputs": [
    {
     "name": "stdout",
     "output_type": "stream",
     "text": [
      "[[ 1  2  3]\n",
      " [ 4  5  6]\n",
      " [ 7  8  9]\n",
      " [10 11 12]]\n"
     ]
    }
   ],
   "source": [
    "my_matrix = np.array([[1,2,3],[4,5,6],[7,8,9],[10,11,12]])\n",
    "print(my_matrix)"
   ]
  },
  {
   "cell_type": "markdown",
   "id": "e5ef51aa-68fb-47db-a5ea-f5009099f757",
   "metadata": {},
   "source": [
    "We use multiple indices to access elements of multidimensional arrays. In the case of a 2D matrix, the first index refers to the row index, while the second one is for the columns:"
   ]
  },
  {
   "cell_type": "code",
   "execution_count": 27,
   "id": "189f52d5-8fd9-4af5-ae33-9e1e84ce8e92",
   "metadata": {},
   "outputs": [
    {
     "name": "stdout",
     "output_type": "stream",
     "text": [
      "6\n",
      "12\n"
     ]
    }
   ],
   "source": [
    "print(my_matrix[1,2])\n",
    "print(my_matrix[-1,-1])"
   ]
  },
  {
   "cell_type": "markdown",
   "id": "d94aae1a-4a2d-488b-bea1-f0e87fcb45a3",
   "metadata": {},
   "source": [
    "If we use only one index we can select entire rows:"
   ]
  },
  {
   "cell_type": "code",
   "execution_count": 28,
   "id": "5bd9f905-f470-416f-a2e1-080f130522a3",
   "metadata": {},
   "outputs": [
    {
     "name": "stdout",
     "output_type": "stream",
     "text": [
      "[1 2 3]\n",
      "[[4 5 6]\n",
      " [7 8 9]]\n"
     ]
    }
   ],
   "source": [
    "print(my_matrix[0])\n",
    "print(my_matrix[1:3])"
   ]
  },
  {
   "cell_type": "markdown",
   "id": "b1dcb347-6eb5-4c33-a357-d4bcf55ce9c8",
   "metadata": {},
   "source": [
    "If we want to select an entire column:"
   ]
  },
  {
   "cell_type": "code",
   "execution_count": 29,
   "id": "42060867-8cc1-4a3d-9c99-63f1c6e28bca",
   "metadata": {},
   "outputs": [
    {
     "name": "stdout",
     "output_type": "stream",
     "text": [
      "[ 1  4  7 10]\n"
     ]
    }
   ],
   "source": [
    "print(my_matrix[:,0])"
   ]
  },
  {
   "cell_type": "markdown",
   "id": "0abc8f3c-1335-4b88-8bbf-9f27d79f2804",
   "metadata": {},
   "source": [
    "Similarly, for 3 dimensional arrays:"
   ]
  },
  {
   "cell_type": "code",
   "execution_count": 47,
   "id": "11a54385-678d-4084-a2f3-838daf8c01e0",
   "metadata": {},
   "outputs": [],
   "source": [
    "multidim_array = np.array([\n",
    "    [[3,4,2],[5,4,4]],\n",
    "    [[7,8,7],[6,6,6]]\n",
    "])"
   ]
  },
  {
   "cell_type": "markdown",
   "id": "2d6429bd-811f-4d0a-95cc-06d4920a499f",
   "metadata": {},
   "source": [
    "Now our array consists of 2 2x3 matrices. This means that element at index 0 is the first 2x3 matrix, and element at index 1 is the second 2x3 matrix. We can then access the elements of the matrix as before:"
   ]
  },
  {
   "cell_type": "code",
   "execution_count": 79,
   "id": "c3fd1c2c-4ffc-4f4c-89bc-775cffc6028d",
   "metadata": {},
   "outputs": [
    {
     "name": "stdout",
     "output_type": "stream",
     "text": [
      "[[[3 4 2]\n",
      "  [5 4 4]]\n",
      "\n",
      " [[7 8 7]\n",
      "  [6 6 6]]]\n",
      "\n",
      "[[3 4 2]\n",
      " [5 4 4]]\n",
      "[4 4]\n",
      "[6 6 6]\n"
     ]
    }
   ],
   "source": [
    "print(multidim_array)\n",
    "print('')\n",
    "print(multidim_array[0])\n",
    "print(multidim_array[0,:,1])\n",
    "print(multidim_array[1,-1,:])"
   ]
  },
  {
   "cell_type": "markdown",
   "id": "5b4a36d1-c0c8-4a70-b228-b56c269c2f3b",
   "metadata": {},
   "source": [
    "<h4>Dimensions</h4>"
   ]
  },
  {
   "cell_type": "markdown",
   "id": "93ba20d7-90f7-4a7e-b01e-09df6a1d89dd",
   "metadata": {},
   "source": [
    "A convenient way to keep track of the operations that we perform is to check the dimension of input, intermediate or output arrays. Numpy provides an easy way to see the shape of an array:"
   ]
  },
  {
   "cell_type": "code",
   "execution_count": 31,
   "id": "224ab55f-47bc-4179-8f69-b9dba7518575",
   "metadata": {},
   "outputs": [
    {
     "data": {
      "text/plain": [
       "(4, 3)"
      ]
     },
     "execution_count": 31,
     "metadata": {},
     "output_type": "execute_result"
    }
   ],
   "source": [
    "my_matrix.shape"
   ]
  },
  {
   "cell_type": "code",
   "execution_count": 49,
   "id": "54c76674-6cb5-4b41-9950-dfa1d34a5df2",
   "metadata": {},
   "outputs": [
    {
     "data": {
      "text/plain": [
       "(2, 2, 3)"
      ]
     },
     "execution_count": 49,
     "metadata": {},
     "output_type": "execute_result"
    }
   ],
   "source": [
    "multidim_array.shape"
   ]
  },
  {
   "cell_type": "markdown",
   "id": "f8b3b40a-3b12-4448-8fd9-08a539c62eb9",
   "metadata": {},
   "source": [
    "To look at the number of dimensions:"
   ]
  },
  {
   "cell_type": "code",
   "execution_count": 33,
   "id": "6fdbf86a-d64a-43e8-9cc5-0f20d2ca08d1",
   "metadata": {},
   "outputs": [
    {
     "data": {
      "text/plain": [
       "2"
      ]
     },
     "execution_count": 33,
     "metadata": {},
     "output_type": "execute_result"
    }
   ],
   "source": [
    "my_matrix.ndim"
   ]
  },
  {
   "cell_type": "code",
   "execution_count": 52,
   "id": "e1891e9b-4423-47fc-bf31-50a398dac38b",
   "metadata": {},
   "outputs": [
    {
     "data": {
      "text/plain": [
       "3"
      ]
     },
     "execution_count": 52,
     "metadata": {},
     "output_type": "execute_result"
    }
   ],
   "source": [
    "multidim_array.ndim"
   ]
  },
  {
   "cell_type": "code",
   "execution_count": 80,
   "id": "9dd87112-b2ab-46f9-836f-42478061552d",
   "metadata": {},
   "outputs": [
    {
     "data": {
      "text/plain": [
       "1"
      ]
     },
     "execution_count": 80,
     "metadata": {},
     "output_type": "execute_result"
    }
   ],
   "source": [
    "my_int_array.ndim"
   ]
  },
  {
   "cell_type": "markdown",
   "id": "aaf43f2b-4542-4072-bfe8-fe24c3a199e8",
   "metadata": {},
   "source": [
    "<h4>Zeros, ones, arange</h4>"
   ]
  },
  {
   "cell_type": "markdown",
   "id": "826b594d-c1a2-483b-b618-6a098a0d34d2",
   "metadata": {},
   "source": [
    "With numpy we can easily create arrays of zeros, ones and evenly spaced values:"
   ]
  },
  {
   "cell_type": "code",
   "execution_count": 67,
   "id": "2b926eb0-3518-41c7-922f-135c9dc75c5a",
   "metadata": {},
   "outputs": [
    {
     "name": "stdout",
     "output_type": "stream",
     "text": [
      "[0. 0. 0. 0. 0. 0. 0. 0. 0. 0.]\n"
     ]
    },
    {
     "data": {
      "text/plain": [
       "array([[0., 0., 0., 0., 0.],\n",
       "       [0., 0., 0., 0., 0.],\n",
       "       [0., 0., 0., 0., 0.],\n",
       "       [0., 0., 0., 0., 0.],\n",
       "       [0., 0., 0., 0., 0.]])"
      ]
     },
     "execution_count": 67,
     "metadata": {},
     "output_type": "execute_result"
    }
   ],
   "source": [
    "array_zeros = np.zeros(10)\n",
    "print(array_zeros)\n",
    "matrix_zeros = np.zeros((5,5))\n",
    "matrix_zeros"
   ]
  },
  {
   "cell_type": "code",
   "execution_count": 68,
   "id": "81b8638b-4e39-40c6-87de-542d05fc8a1c",
   "metadata": {},
   "outputs": [
    {
     "name": "stdout",
     "output_type": "stream",
     "text": [
      "[1. 1. 1. 1. 1. 1. 1. 1. 1. 1.]\n"
     ]
    },
    {
     "data": {
      "text/plain": [
       "array([[1., 1., 1., 1., 1.],\n",
       "       [1., 1., 1., 1., 1.],\n",
       "       [1., 1., 1., 1., 1.],\n",
       "       [1., 1., 1., 1., 1.],\n",
       "       [1., 1., 1., 1., 1.]])"
      ]
     },
     "execution_count": 68,
     "metadata": {},
     "output_type": "execute_result"
    }
   ],
   "source": [
    "array_ones = np.ones(10)\n",
    "print(array_ones)\n",
    "matrix_ones = np.ones((5,5))\n",
    "matrix_ones"
   ]
  },
  {
   "cell_type": "code",
   "execution_count": 70,
   "id": "60f347b6-2717-4cae-a80f-c8569bba46f1",
   "metadata": {},
   "outputs": [
    {
     "data": {
      "text/plain": [
       "array([0, 1, 2, 3, 4, 5, 6, 7, 8, 9])"
      ]
     },
     "execution_count": 70,
     "metadata": {},
     "output_type": "execute_result"
    }
   ],
   "source": [
    "np.arange(10)"
   ]
  },
  {
   "cell_type": "code",
   "execution_count": 71,
   "id": "6dca959b-c0c6-4277-ba01-4aab03723b38",
   "metadata": {},
   "outputs": [
    {
     "data": {
      "text/plain": [
       "array([4, 5, 6, 7, 8, 9])"
      ]
     },
     "execution_count": 71,
     "metadata": {},
     "output_type": "execute_result"
    }
   ],
   "source": [
    "np.arange(4,10)"
   ]
  },
  {
   "cell_type": "code",
   "execution_count": 72,
   "id": "1311ce3d-dc72-462a-a78c-a128f305b1f2",
   "metadata": {},
   "outputs": [
    {
     "data": {
      "text/plain": [
       "array([4, 6, 8])"
      ]
     },
     "execution_count": 72,
     "metadata": {},
     "output_type": "execute_result"
    }
   ],
   "source": [
    "np.arange(4,10,2)"
   ]
  },
  {
   "cell_type": "markdown",
   "id": "e5af5e8a-cb8d-4dba-864d-00e545c4aa96",
   "metadata": {},
   "source": [
    "The third argument in `np.arange` is the step size."
   ]
  },
  {
   "cell_type": "markdown",
   "id": "087f966d-d112-4758-970e-f57efd7b5f00",
   "metadata": {},
   "source": [
    "TODO:"
   ]
  },
  {
   "cell_type": "markdown",
   "id": "f3bd344b-c6c5-4668-a96e-ff9925d7148e",
   "metadata": {},
   "source": [
    "<h4> Reshape </h4>"
   ]
  },
  {
   "cell_type": "markdown",
   "id": "a1588628-675f-475a-bf50-1ae0a0ba8d98",
   "metadata": {},
   "source": [
    "<h4>Boolean arrays</h4>"
   ]
  },
  {
   "cell_type": "markdown",
   "id": "91a8914b-b5a6-4ea9-941c-4e3f23c2ac5f",
   "metadata": {},
   "source": [
    "Numpy arrays can also be booleans. We can use arrays as indices"
   ]
  },
  {
   "cell_type": "markdown",
   "id": "eaaa0213-2beb-48f1-aa29-7a4ec254e183",
   "metadata": {},
   "source": [
    "<h4>Operations</h4>"
   ]
  },
  {
   "cell_type": "markdown",
   "id": "7c5551a9-c37c-49ec-8358-c5fc41dbbc1c",
   "metadata": {},
   "source": [
    "TODO: add/subtract/multiply/divide by number, multiply two arrays elementwise"
   ]
  },
  {
   "cell_type": "markdown",
   "id": "47d23620-5ee6-473e-9868-90a2de157c81",
   "metadata": {},
   "source": [
    "<h4> Broadcasting </h4>"
   ]
  },
  {
   "cell_type": "markdown",
   "id": "9e3b7132-85cc-45b9-b98c-1f78dd8bdb3c",
   "metadata": {},
   "source": [
    "<h4>Basic numpy functions</h4>\n",
    "min, max, mean, std, var. Mention axis"
   ]
  },
  {
   "cell_type": "markdown",
   "id": "179db854-4c35-458a-9708-a7f9dd52ddd0",
   "metadata": {},
   "source": [
    "<h4> Practice numpy </h4>"
   ]
  },
  {
   "cell_type": "markdown",
   "id": "ef35adb9-44ee-450a-a8b8-ed58abd064d0",
   "metadata": {},
   "source": [
    "TODO: add exercises"
   ]
  },
  {
   "cell_type": "markdown",
   "id": "6f773a71-6152-43bb-9a12-093ba388b5b7",
   "metadata": {},
   "source": [
    "<h4>Univariate linear regression</h4>"
   ]
  },
  {
   "cell_type": "markdown",
   "id": "3ccf6232-55f1-4090-9005-10f2be91b11f",
   "metadata": {},
   "source": [
    "We want to use a linear model to estimate the price of a house given its surface in square meters. We are given the following data:"
   ]
  },
  {
   "cell_type": "code",
   "execution_count": 57,
   "id": "68c025b8-059f-401e-a3e4-87e0df29a7e1",
   "metadata": {},
   "outputs": [],
   "source": [
    "square_meters = np.array([50, 51, 62, 78, 81, 85, 101, 102, 120, 135, 141, 170])\n",
    "price = np.array([\n",
    "    180000,\n",
    "    172000,\n",
    "    240000,\n",
    "    340000,\n",
    "    315000,\n",
    "    320000,\n",
    "    400000,\n",
    "    410000,\n",
    "    410000,\n",
    "    535000,\n",
    "    560000,\n",
    "    700000,\n",
    "])"
   ]
  },
  {
   "cell_type": "markdown",
   "id": "fb7e3434-b6d4-43cb-b82d-8b8d10f10209",
   "metadata": {},
   "source": [
    "**1 - Do a scatter plot with your data showing the price of each house**"
   ]
  },
  {
   "cell_type": "markdown",
   "id": "576fa308-cf41-442b-b97d-d8127460c7fa",
   "metadata": {},
   "source": [
    "https://matplotlib.org/stable/api/_as_gen/matplotlib.pyplot.scatter.html\n",
    "https://matplotlib.org/stable/api/_as_gen/matplotlib.pyplot.plot.html"
   ]
  },
  {
   "cell_type": "code",
   "execution_count": 56,
   "id": "268651a1-b568-4194-9f1e-c4d4144db118",
   "metadata": {},
   "outputs": [],
   "source": [
    "import matplotlib.pyplot as plt\n",
    "# your code goes here\n",
    "# for subscript 2 use \\u00b2"
   ]
  },
  {
   "cell_type": "markdown",
   "id": "78dce3c8-c6c3-4982-80be-77e75e9d6e9e",
   "metadata": {},
   "source": [
    "In our linear regression model:\n",
    "\n",
    "\\begin{equation}\n",
    "\\bar{y} = ax + b\n",
    "\\end{equation}\n",
    "\n",
    "we can compute the coefficients $a$ and $b$ following the ordinary least squares method using the following expressions:\n",
    "\\begin{equation}\n",
    "a = \\frac{\\sum_{i=0}^n(x_i+\\bar{x})(y_i-\\bar{y})}{\\sum_{i=0}^n(x_i-\\bar{x})^2}\n",
    "\\end{equation}\n",
    "\n",
    "\\begin{equation}\n",
    "b = \\bar{y} - a\\bar{x}\n",
    "\\end{equation}\n",
    "\n",
    "$\\bar{x} = mean(x)$, $\\bar{y} = mean(y)$"
   ]
  },
  {
   "cell_type": "markdown",
   "id": "e0b2fd88-9bbe-4f1f-b6e7-c3ce832afabf",
   "metadata": {},
   "source": [
    "**2 - Compute the coefficients $a$ and $b$ and plot the estimation of the house prices on top of the scatter plot**"
   ]
  },
  {
   "cell_type": "markdown",
   "id": "4111669d-701a-4d0b-8d2d-cf58be9afed2",
   "metadata": {},
   "source": [
    "<h4>Sklearn linear regression</h4>"
   ]
  },
  {
   "cell_type": "markdown",
   "id": "3c54458d-bb66-47fb-957a-088090fc8723",
   "metadata": {},
   "source": [
    "We will now use the build-in linear regression model from Sklearn. Taken from the documentation page https://scikit-learn.org/stable/modules/generated/sklearn.linear_model.LinearRegression.html:\n",
    "\n",
    "\"Ordinary least squares Linear Regression.\n",
    "\n",
    "LinearRegression fits a linear model with coefficients w = (w1, …, wp) to minimize the residual sum of squares between the observed targets in the dataset, and the targets predicted by the linear approximation.\""
   ]
  },
  {
   "cell_type": "code",
   "execution_count": 58,
   "id": "4a9a858a-1371-4fbb-b44e-ad56dec1e554",
   "metadata": {},
   "outputs": [],
   "source": [
    "from sklearn.linear_model import LinearRegression\n",
    "\n",
    "linear_regression = LinearRegression()\n",
    "X = square_meters.reshape(-1,1)\n",
    "y = price.reshape(-1,1)\n",
    "linear_regression.fit(X, y)\n",
    "y_pred = linear_regression.predict(X)"
   ]
  },
  {
   "cell_type": "code",
   "execution_count": 60,
   "id": "25f0f0d1-a73d-4b68-b245-4f1979ee09a6",
   "metadata": {},
   "outputs": [
    {
     "data": {
      "text/plain": [
       "array([[4137.62999101]])"
      ]
     },
     "execution_count": 60,
     "metadata": {},
     "output_type": "execute_result"
    }
   ],
   "source": [
    "linear_regression.coef_"
   ]
  },
  {
   "cell_type": "code",
   "execution_count": 59,
   "id": "b9b39ea6-1fca-4ec2-8ad8-6ff385765651",
   "metadata": {},
   "outputs": [
    {
     "data": {
      "text/plain": [
       "array([-23654.40578594])"
      ]
     },
     "execution_count": 59,
     "metadata": {},
     "output_type": "execute_result"
    }
   ],
   "source": [
    "linear_regression.intercept_"
   ]
  },
  {
   "cell_type": "markdown",
   "id": "1af53791-a18f-472f-b7db-ff37834bfb3c",
   "metadata": {
    "tags": []
   },
   "source": [
    "<h5>Extra exercise</h5>"
   ]
  },
  {
   "cell_type": "markdown",
   "id": "d2fbf3cd-df85-4f06-b03e-a41b59290003",
   "metadata": {},
   "source": [
    "Write your own univariate linear model class. It should have two methods: a `fit` method that allows you to fit your model given some X and y (it should update the attributes `a` and `b`) and a predict method in which you can use the trained model to predict new y given X. Create an instance of the class, fit it with `square_meters`, `price` data and predict the  price for the following houses:"
   ]
  },
  {
   "cell_type": "code",
   "execution_count": 53,
   "id": "916ef600-4aca-487d-8019-119af384aa75",
   "metadata": {},
   "outputs": [],
   "source": [
    "new_houses = np.array([66, 72, 128, 425])"
   ]
  },
  {
   "cell_type": "markdown",
   "id": "4d269ad7-b882-4678-a90b-da2eb5f3f9c7",
   "metadata": {},
   "source": [
    "Do you get the same coefficients as before?"
   ]
  },
  {
   "cell_type": "code",
   "execution_count": 54,
   "id": "af5c67f8-2375-4221-8288-efcca77f7709",
   "metadata": {},
   "outputs": [],
   "source": [
    "class LinearModel:\n",
    "    def __init__(self):\n",
    "        self.a = 0\n",
    "        self.b = 0\n",
    "    \n",
    "    def fit(self, X, y):\n",
    "        # write your code here\n",
    "        pass\n",
    "    \n",
    "    def predict(self, X):\n",
    "        # write your code here\n",
    "        pass"
   ]
  },
  {
   "cell_type": "markdown",
   "id": "eb454221-52db-4765-844b-6fe717a3bd7a",
   "metadata": {},
   "source": [
    "<h4>Mean squared error</h4>"
   ]
  },
  {
   "cell_type": "markdown",
   "id": "174d07d6-de2d-49d7-b78b-d5c47c9fd490",
   "metadata": {},
   "source": [
    "The mean squared error is defined as follows:\n",
    "\n",
    "\\begin{equation}\n",
    "\\frac{1}{n}\\sum_{i=0}^{n}(Y_i - \\hat{Y}_i)^2\n",
    "\\end{equation}"
   ]
  },
  {
   "cell_type": "markdown",
   "id": "bd30d5a5-287c-4b15-abc6-9349ce93f591",
   "metadata": {},
   "source": [
    "**1 - Compute the mean squared error of the linear regression model that we just fitted**"
   ]
  },
  {
   "cell_type": "markdown",
   "id": "16a01e90-a98d-4eaa-83f9-4e08b3d18188",
   "metadata": {},
   "source": [
    "**2 - Use sklearn's mean squared error function and compare the results with the previous one**"
   ]
  },
  {
   "cell_type": "markdown",
   "id": "33da94bb-452a-45d4-86e9-8d34da4ead10",
   "metadata": {
    "tags": []
   },
   "source": [
    "<h4> Pandas </h4>"
   ]
  },
  {
   "cell_type": "markdown",
   "id": "91ef5009-cf62-4256-949b-38ecdcc06dc3",
   "metadata": {},
   "source": [
    "The two primary data structures in pandas as Series and Dataframes, which allow for efficient handling and manipulation of tabular data. Let's see how we can use pandas to load and treat data from a dataset of breast tumor cells."
   ]
  },
  {
   "cell_type": "code",
   "execution_count": 85,
   "id": "5906c60d-af95-4805-a0a4-cc64ad77132e",
   "metadata": {},
   "outputs": [],
   "source": [
    "import pandas as pd\n",
    "\n",
    "breast_cancer = pd.read_csv('breast_cancer.csv')"
   ]
  },
  {
   "cell_type": "code",
   "execution_count": 86,
   "id": "5ddf840c-21e6-4b02-a596-0602aeee6861",
   "metadata": {},
   "outputs": [
    {
     "data": {
      "text/html": [
       "<div>\n",
       "<style scoped>\n",
       "    .dataframe tbody tr th:only-of-type {\n",
       "        vertical-align: middle;\n",
       "    }\n",
       "\n",
       "    .dataframe tbody tr th {\n",
       "        vertical-align: top;\n",
       "    }\n",
       "\n",
       "    .dataframe thead th {\n",
       "        text-align: right;\n",
       "    }\n",
       "</style>\n",
       "<table border=\"1\" class=\"dataframe\">\n",
       "  <thead>\n",
       "    <tr style=\"text-align: right;\">\n",
       "      <th></th>\n",
       "      <th>x.radius_mean</th>\n",
       "      <th>x.texture_mean</th>\n",
       "      <th>x.perimeter_mean</th>\n",
       "      <th>x.area_mean</th>\n",
       "      <th>x.smoothness_mean</th>\n",
       "      <th>x.compactness_mean</th>\n",
       "      <th>x.concavity_mean</th>\n",
       "      <th>x.concave_pts_mean</th>\n",
       "      <th>x.symmetry_mean</th>\n",
       "      <th>x.fractal_dim_mean</th>\n",
       "      <th>...</th>\n",
       "      <th>x.texture_worst</th>\n",
       "      <th>x.perimeter_worst</th>\n",
       "      <th>x.area_worst</th>\n",
       "      <th>x.smoothness_worst</th>\n",
       "      <th>x.compactness_worst</th>\n",
       "      <th>x.concavity_worst</th>\n",
       "      <th>x.concave_pts_worst</th>\n",
       "      <th>x.symmetry_worst</th>\n",
       "      <th>x.fractal_dim_worst</th>\n",
       "      <th>y</th>\n",
       "    </tr>\n",
       "  </thead>\n",
       "  <tbody>\n",
       "    <tr>\n",
       "      <th>0</th>\n",
       "      <td>13.540</td>\n",
       "      <td>14.36</td>\n",
       "      <td>87.46</td>\n",
       "      <td>566.3</td>\n",
       "      <td>0.09779</td>\n",
       "      <td>0.08129</td>\n",
       "      <td>0.06664</td>\n",
       "      <td>0.047810</td>\n",
       "      <td>0.1885</td>\n",
       "      <td>0.05766</td>\n",
       "      <td>...</td>\n",
       "      <td>19.26</td>\n",
       "      <td>99.70</td>\n",
       "      <td>711.2</td>\n",
       "      <td>0.14400</td>\n",
       "      <td>0.17730</td>\n",
       "      <td>0.23900</td>\n",
       "      <td>0.12880</td>\n",
       "      <td>0.2977</td>\n",
       "      <td>0.07259</td>\n",
       "      <td>B</td>\n",
       "    </tr>\n",
       "    <tr>\n",
       "      <th>1</th>\n",
       "      <td>13.080</td>\n",
       "      <td>15.71</td>\n",
       "      <td>85.63</td>\n",
       "      <td>520.0</td>\n",
       "      <td>0.10750</td>\n",
       "      <td>0.12700</td>\n",
       "      <td>0.04568</td>\n",
       "      <td>0.031100</td>\n",
       "      <td>0.1967</td>\n",
       "      <td>0.06811</td>\n",
       "      <td>...</td>\n",
       "      <td>20.49</td>\n",
       "      <td>96.09</td>\n",
       "      <td>630.5</td>\n",
       "      <td>0.13120</td>\n",
       "      <td>0.27760</td>\n",
       "      <td>0.18900</td>\n",
       "      <td>0.07283</td>\n",
       "      <td>0.3184</td>\n",
       "      <td>0.08183</td>\n",
       "      <td>B</td>\n",
       "    </tr>\n",
       "    <tr>\n",
       "      <th>2</th>\n",
       "      <td>9.504</td>\n",
       "      <td>12.44</td>\n",
       "      <td>60.34</td>\n",
       "      <td>273.9</td>\n",
       "      <td>0.10240</td>\n",
       "      <td>0.06492</td>\n",
       "      <td>0.02956</td>\n",
       "      <td>0.020760</td>\n",
       "      <td>0.1815</td>\n",
       "      <td>0.06905</td>\n",
       "      <td>...</td>\n",
       "      <td>15.66</td>\n",
       "      <td>65.13</td>\n",
       "      <td>314.9</td>\n",
       "      <td>0.13240</td>\n",
       "      <td>0.11480</td>\n",
       "      <td>0.08867</td>\n",
       "      <td>0.06227</td>\n",
       "      <td>0.2450</td>\n",
       "      <td>0.07773</td>\n",
       "      <td>B</td>\n",
       "    </tr>\n",
       "    <tr>\n",
       "      <th>3</th>\n",
       "      <td>13.030</td>\n",
       "      <td>18.42</td>\n",
       "      <td>82.61</td>\n",
       "      <td>523.8</td>\n",
       "      <td>0.08983</td>\n",
       "      <td>0.03766</td>\n",
       "      <td>0.02562</td>\n",
       "      <td>0.029230</td>\n",
       "      <td>0.1467</td>\n",
       "      <td>0.05863</td>\n",
       "      <td>...</td>\n",
       "      <td>22.81</td>\n",
       "      <td>84.46</td>\n",
       "      <td>545.9</td>\n",
       "      <td>0.09701</td>\n",
       "      <td>0.04619</td>\n",
       "      <td>0.04833</td>\n",
       "      <td>0.05013</td>\n",
       "      <td>0.1987</td>\n",
       "      <td>0.06169</td>\n",
       "      <td>B</td>\n",
       "    </tr>\n",
       "    <tr>\n",
       "      <th>4</th>\n",
       "      <td>8.196</td>\n",
       "      <td>16.84</td>\n",
       "      <td>51.71</td>\n",
       "      <td>201.9</td>\n",
       "      <td>0.08600</td>\n",
       "      <td>0.05943</td>\n",
       "      <td>0.01588</td>\n",
       "      <td>0.005917</td>\n",
       "      <td>0.1769</td>\n",
       "      <td>0.06503</td>\n",
       "      <td>...</td>\n",
       "      <td>21.96</td>\n",
       "      <td>57.26</td>\n",
       "      <td>242.2</td>\n",
       "      <td>0.12970</td>\n",
       "      <td>0.13570</td>\n",
       "      <td>0.06880</td>\n",
       "      <td>0.02564</td>\n",
       "      <td>0.3105</td>\n",
       "      <td>0.07409</td>\n",
       "      <td>B</td>\n",
       "    </tr>\n",
       "    <tr>\n",
       "      <th>...</th>\n",
       "      <td>...</td>\n",
       "      <td>...</td>\n",
       "      <td>...</td>\n",
       "      <td>...</td>\n",
       "      <td>...</td>\n",
       "      <td>...</td>\n",
       "      <td>...</td>\n",
       "      <td>...</td>\n",
       "      <td>...</td>\n",
       "      <td>...</td>\n",
       "      <td>...</td>\n",
       "      <td>...</td>\n",
       "      <td>...</td>\n",
       "      <td>...</td>\n",
       "      <td>...</td>\n",
       "      <td>...</td>\n",
       "      <td>...</td>\n",
       "      <td>...</td>\n",
       "      <td>...</td>\n",
       "      <td>...</td>\n",
       "      <td>...</td>\n",
       "    </tr>\n",
       "    <tr>\n",
       "      <th>564</th>\n",
       "      <td>20.920</td>\n",
       "      <td>25.09</td>\n",
       "      <td>143.00</td>\n",
       "      <td>1347.0</td>\n",
       "      <td>0.10990</td>\n",
       "      <td>0.22360</td>\n",
       "      <td>0.31740</td>\n",
       "      <td>0.147400</td>\n",
       "      <td>0.2149</td>\n",
       "      <td>0.06879</td>\n",
       "      <td>...</td>\n",
       "      <td>29.41</td>\n",
       "      <td>179.10</td>\n",
       "      <td>1819.0</td>\n",
       "      <td>0.14070</td>\n",
       "      <td>0.41860</td>\n",
       "      <td>0.65990</td>\n",
       "      <td>0.25420</td>\n",
       "      <td>0.2929</td>\n",
       "      <td>0.09873</td>\n",
       "      <td>M</td>\n",
       "    </tr>\n",
       "    <tr>\n",
       "      <th>565</th>\n",
       "      <td>21.560</td>\n",
       "      <td>22.39</td>\n",
       "      <td>142.00</td>\n",
       "      <td>1479.0</td>\n",
       "      <td>0.11100</td>\n",
       "      <td>0.11590</td>\n",
       "      <td>0.24390</td>\n",
       "      <td>0.138900</td>\n",
       "      <td>0.1726</td>\n",
       "      <td>0.05623</td>\n",
       "      <td>...</td>\n",
       "      <td>26.40</td>\n",
       "      <td>166.10</td>\n",
       "      <td>2027.0</td>\n",
       "      <td>0.14100</td>\n",
       "      <td>0.21130</td>\n",
       "      <td>0.41070</td>\n",
       "      <td>0.22160</td>\n",
       "      <td>0.2060</td>\n",
       "      <td>0.07115</td>\n",
       "      <td>M</td>\n",
       "    </tr>\n",
       "    <tr>\n",
       "      <th>566</th>\n",
       "      <td>20.130</td>\n",
       "      <td>28.25</td>\n",
       "      <td>131.20</td>\n",
       "      <td>1261.0</td>\n",
       "      <td>0.09780</td>\n",
       "      <td>0.10340</td>\n",
       "      <td>0.14400</td>\n",
       "      <td>0.097910</td>\n",
       "      <td>0.1752</td>\n",
       "      <td>0.05533</td>\n",
       "      <td>...</td>\n",
       "      <td>38.25</td>\n",
       "      <td>155.00</td>\n",
       "      <td>1731.0</td>\n",
       "      <td>0.11660</td>\n",
       "      <td>0.19220</td>\n",
       "      <td>0.32150</td>\n",
       "      <td>0.16280</td>\n",
       "      <td>0.2572</td>\n",
       "      <td>0.06637</td>\n",
       "      <td>M</td>\n",
       "    </tr>\n",
       "    <tr>\n",
       "      <th>567</th>\n",
       "      <td>16.600</td>\n",
       "      <td>28.08</td>\n",
       "      <td>108.30</td>\n",
       "      <td>858.1</td>\n",
       "      <td>0.08455</td>\n",
       "      <td>0.10230</td>\n",
       "      <td>0.09251</td>\n",
       "      <td>0.053020</td>\n",
       "      <td>0.1590</td>\n",
       "      <td>0.05648</td>\n",
       "      <td>...</td>\n",
       "      <td>34.12</td>\n",
       "      <td>126.70</td>\n",
       "      <td>1124.0</td>\n",
       "      <td>0.11390</td>\n",
       "      <td>0.30940</td>\n",
       "      <td>0.34030</td>\n",
       "      <td>0.14180</td>\n",
       "      <td>0.2218</td>\n",
       "      <td>0.07820</td>\n",
       "      <td>M</td>\n",
       "    </tr>\n",
       "    <tr>\n",
       "      <th>568</th>\n",
       "      <td>20.600</td>\n",
       "      <td>29.33</td>\n",
       "      <td>140.10</td>\n",
       "      <td>1265.0</td>\n",
       "      <td>0.11780</td>\n",
       "      <td>0.27700</td>\n",
       "      <td>0.35140</td>\n",
       "      <td>0.152000</td>\n",
       "      <td>0.2397</td>\n",
       "      <td>0.07016</td>\n",
       "      <td>...</td>\n",
       "      <td>39.42</td>\n",
       "      <td>184.60</td>\n",
       "      <td>1821.0</td>\n",
       "      <td>0.16500</td>\n",
       "      <td>0.86810</td>\n",
       "      <td>0.93870</td>\n",
       "      <td>0.26500</td>\n",
       "      <td>0.4087</td>\n",
       "      <td>0.12400</td>\n",
       "      <td>M</td>\n",
       "    </tr>\n",
       "  </tbody>\n",
       "</table>\n",
       "<p>569 rows × 31 columns</p>\n",
       "</div>"
      ],
      "text/plain": [
       "     x.radius_mean  x.texture_mean  x.perimeter_mean  x.area_mean  \\\n",
       "0           13.540           14.36             87.46        566.3   \n",
       "1           13.080           15.71             85.63        520.0   \n",
       "2            9.504           12.44             60.34        273.9   \n",
       "3           13.030           18.42             82.61        523.8   \n",
       "4            8.196           16.84             51.71        201.9   \n",
       "..             ...             ...               ...          ...   \n",
       "564         20.920           25.09            143.00       1347.0   \n",
       "565         21.560           22.39            142.00       1479.0   \n",
       "566         20.130           28.25            131.20       1261.0   \n",
       "567         16.600           28.08            108.30        858.1   \n",
       "568         20.600           29.33            140.10       1265.0   \n",
       "\n",
       "     x.smoothness_mean  x.compactness_mean  x.concavity_mean  \\\n",
       "0              0.09779             0.08129           0.06664   \n",
       "1              0.10750             0.12700           0.04568   \n",
       "2              0.10240             0.06492           0.02956   \n",
       "3              0.08983             0.03766           0.02562   \n",
       "4              0.08600             0.05943           0.01588   \n",
       "..                 ...                 ...               ...   \n",
       "564            0.10990             0.22360           0.31740   \n",
       "565            0.11100             0.11590           0.24390   \n",
       "566            0.09780             0.10340           0.14400   \n",
       "567            0.08455             0.10230           0.09251   \n",
       "568            0.11780             0.27700           0.35140   \n",
       "\n",
       "     x.concave_pts_mean  x.symmetry_mean  x.fractal_dim_mean  ...  \\\n",
       "0              0.047810           0.1885             0.05766  ...   \n",
       "1              0.031100           0.1967             0.06811  ...   \n",
       "2              0.020760           0.1815             0.06905  ...   \n",
       "3              0.029230           0.1467             0.05863  ...   \n",
       "4              0.005917           0.1769             0.06503  ...   \n",
       "..                  ...              ...                 ...  ...   \n",
       "564            0.147400           0.2149             0.06879  ...   \n",
       "565            0.138900           0.1726             0.05623  ...   \n",
       "566            0.097910           0.1752             0.05533  ...   \n",
       "567            0.053020           0.1590             0.05648  ...   \n",
       "568            0.152000           0.2397             0.07016  ...   \n",
       "\n",
       "     x.texture_worst  x.perimeter_worst  x.area_worst  x.smoothness_worst  \\\n",
       "0              19.26              99.70         711.2             0.14400   \n",
       "1              20.49              96.09         630.5             0.13120   \n",
       "2              15.66              65.13         314.9             0.13240   \n",
       "3              22.81              84.46         545.9             0.09701   \n",
       "4              21.96              57.26         242.2             0.12970   \n",
       "..               ...                ...           ...                 ...   \n",
       "564            29.41             179.10        1819.0             0.14070   \n",
       "565            26.40             166.10        2027.0             0.14100   \n",
       "566            38.25             155.00        1731.0             0.11660   \n",
       "567            34.12             126.70        1124.0             0.11390   \n",
       "568            39.42             184.60        1821.0             0.16500   \n",
       "\n",
       "     x.compactness_worst  x.concavity_worst  x.concave_pts_worst  \\\n",
       "0                0.17730            0.23900              0.12880   \n",
       "1                0.27760            0.18900              0.07283   \n",
       "2                0.11480            0.08867              0.06227   \n",
       "3                0.04619            0.04833              0.05013   \n",
       "4                0.13570            0.06880              0.02564   \n",
       "..                   ...                ...                  ...   \n",
       "564              0.41860            0.65990              0.25420   \n",
       "565              0.21130            0.41070              0.22160   \n",
       "566              0.19220            0.32150              0.16280   \n",
       "567              0.30940            0.34030              0.14180   \n",
       "568              0.86810            0.93870              0.26500   \n",
       "\n",
       "     x.symmetry_worst  x.fractal_dim_worst  y  \n",
       "0              0.2977              0.07259  B  \n",
       "1              0.3184              0.08183  B  \n",
       "2              0.2450              0.07773  B  \n",
       "3              0.1987              0.06169  B  \n",
       "4              0.3105              0.07409  B  \n",
       "..                ...                  ... ..  \n",
       "564            0.2929              0.09873  M  \n",
       "565            0.2060              0.07115  M  \n",
       "566            0.2572              0.06637  M  \n",
       "567            0.2218              0.07820  M  \n",
       "568            0.4087              0.12400  M  \n",
       "\n",
       "[569 rows x 31 columns]"
      ]
     },
     "execution_count": 86,
     "metadata": {},
     "output_type": "execute_result"
    }
   ],
   "source": [
    "breast_cancer"
   ]
  },
  {
   "cell_type": "markdown",
   "id": "8fb425bc-9070-43a7-8efd-4f748c66153c",
   "metadata": {},
   "source": [
    "Each row in the table is an observation, and each column is a characteristic. In our example, the columns are characteristics of cell nuclei in breast tumors. The last column represents the target. 'M' means that the observation corresponds to malignant tumor, while 'B' means that the tumor is benign."
   ]
  },
  {
   "cell_type": "code",
   "execution_count": 87,
   "id": "1b8d8249-8269-46c4-9ae9-3dff1fcf76d7",
   "metadata": {},
   "outputs": [
    {
     "data": {
      "text/plain": [
       "Index(['x.radius_mean', 'x.texture_mean', 'x.perimeter_mean', 'x.area_mean',\n",
       "       'x.smoothness_mean', 'x.compactness_mean', 'x.concavity_mean',\n",
       "       'x.concave_pts_mean', 'x.symmetry_mean', 'x.fractal_dim_mean',\n",
       "       'x.radius_se', 'x.texture_se', 'x.perimeter_se', 'x.area_se',\n",
       "       'x.smoothness_se', 'x.compactness_se', 'x.concavity_se',\n",
       "       'x.concave_pts_se', 'x.symmetry_se', 'x.fractal_dim_se',\n",
       "       'x.radius_worst', 'x.texture_worst', 'x.perimeter_worst',\n",
       "       'x.area_worst', 'x.smoothness_worst', 'x.compactness_worst',\n",
       "       'x.concavity_worst', 'x.concave_pts_worst', 'x.symmetry_worst',\n",
       "       'x.fractal_dim_worst', 'y'],\n",
       "      dtype='object')"
      ]
     },
     "execution_count": 87,
     "metadata": {},
     "output_type": "execute_result"
    }
   ],
   "source": [
    "breast_cancer.columns"
   ]
  },
  {
   "cell_type": "code",
   "execution_count": 88,
   "id": "8985425c-5a8a-4899-b94f-c7baa395fc1f",
   "metadata": {},
   "outputs": [
    {
     "name": "stdout",
     "output_type": "stream",
     "text": [
      "0      B\n",
      "1      B\n",
      "2      B\n",
      "3      B\n",
      "4      B\n",
      "      ..\n",
      "564    M\n",
      "565    M\n",
      "566    M\n",
      "567    M\n",
      "568    M\n",
      "Name: y, Length: 569, dtype: object\n"
     ]
    }
   ],
   "source": [
    "y = breast_cancer.pop('y')\n",
    "print(y)"
   ]
  },
  {
   "cell_type": "code",
   "execution_count": null,
   "id": "d46408d3-195e-4da4-a679-9decff65dac9",
   "metadata": {},
   "outputs": [],
   "source": [
    "breast_cancer.columns"
   ]
  },
  {
   "cell_type": "code",
   "execution_count": null,
   "id": "92439caa-7368-4eef-8bae-2a9022eab303",
   "metadata": {},
   "outputs": [],
   "source": [
    "y = y.to_numpy()"
   ]
  },
  {
   "cell_type": "code",
   "execution_count": null,
   "id": "2ce4d101-d651-4b6e-be53-b78984c86218",
   "metadata": {},
   "outputs": [],
   "source": [
    "y[y=='B'] = 0\n",
    "y[y=='M'] = 1\n",
    "y = y.astype('float32')"
   ]
  },
  {
   "cell_type": "markdown",
   "id": "4c781078-049d-4af8-88fb-f7a51a103f41",
   "metadata": {},
   "source": [
    "TODO: Get X features, normalize/standardize data with mean, std, min, max\n",
    "Normalize/standardize with sklearn"
   ]
  },
  {
   "cell_type": "markdown",
   "id": "24f9cd59-fecf-40bb-a6b1-367691c849f2",
   "metadata": {},
   "source": [
    "Data standardization"
   ]
  },
  {
   "cell_type": "markdown",
   "id": "cff6a7e2-db0a-4f62-9b4f-fecf2e45d836",
   "metadata": {},
   "source": [
    "<h5>Extra exercise</h5>\n",
    "Build your own standard scaler and normal scaler. "
   ]
  },
  {
   "cell_type": "code",
   "execution_count": null,
   "id": "64e2f3f4-341c-4d5a-a4b7-57fe31033461",
   "metadata": {},
   "outputs": [],
   "source": [
    "from typing import Optional\n",
    "\n",
    "class StandardScaler:\n",
    "    def __init__(\n",
    "        self,\n",
    "        mean: Optional[float],\n",
    "        std: Optional[float],\n",
    "    ) -> None:\n",
    "        self.mean = mean\n",
    "        self.std = std\n",
    "\n",
    "    def fit(self, X, y):\n",
    "        #write your code here\n",
    "        pass\n",
    "    \n",
    "    def transform(self, X):\n",
    "        #write your code here\n",
    "        pass\n",
    "        \n",
    "    def fit_transform(self, X, y):\n",
    "        #write your code here\n",
    "        pass"
   ]
  },
  {
   "cell_type": "code",
   "execution_count": null,
   "id": "a965e9b1-fd11-4f94-b463-1b0bb5d16416",
   "metadata": {},
   "outputs": [],
   "source": [
    "class NormalScaler:\n",
    "    def __init__(\n",
    "        self,\n",
    "        max_value: Optional[float],\n",
    "        min_value: Optional[float],\n",
    "    ) -> None:\n",
    "        self.max_value = max_value\n",
    "        self.min_value = min_value\n",
    "\n",
    "    def fit(self, X, y):\n",
    "        #write your code here\n",
    "        pass\n",
    "    \n",
    "    def transform(self, X):\n",
    "        #write your code here\n",
    "        pass\n",
    "        \n",
    "    def fit_transform(self, X, y):\n",
    "        #write your code here\n",
    "        pass"
   ]
  },
  {
   "cell_type": "markdown",
   "id": "c3739489-6b95-4d20-8f20-c9108a9b71ab",
   "metadata": {},
   "source": [
    "TODO: add logistic regression exercise with Sklearn with the X and y cancer dataset data\n",
    "Extra: some statistics (accuracy, recall, F1, confusion matrix)"
   ]
  }
 ],
 "metadata": {
  "kernelspec": {
   "display_name": "Python 3 (ipykernel)",
   "language": "python",
   "name": "python3"
  },
  "language_info": {
   "codemirror_mode": {
    "name": "ipython",
    "version": 3
   },
   "file_extension": ".py",
   "mimetype": "text/x-python",
   "name": "python",
   "nbconvert_exporter": "python",
   "pygments_lexer": "ipython3",
   "version": "3.8.10"
  }
 },
 "nbformat": 4,
 "nbformat_minor": 5
}
